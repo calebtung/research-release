{
 "metadata": {
  "language_info": {
   "codemirror_mode": {
    "name": "ipython",
    "version": 3
   },
   "file_extension": ".py",
   "mimetype": "text/x-python",
   "name": "python",
   "nbconvert_exporter": "python",
   "pygments_lexer": "ipython3",
   "version": "3.8.5"
  },
  "orig_nbformat": 4,
  "kernelspec": {
   "name": "python3",
   "display_name": "Python 3.8.5 64-bit ('context-cv': conda)"
  },
  "interpreter": {
   "hash": "d9a099bfec85cd1c5288cfb488ca37f463be6be9ce271bcbb0e27761455bef02"
  }
 },
 "nbformat": 4,
 "nbformat_minor": 2,
 "cells": [
  {
   "cell_type": "code",
   "execution_count": 2,
   "metadata": {},
   "outputs": [],
   "source": [
    "import cv2\n",
    "import custom_dataset\n",
    "import numpy as np\n",
    "import torch\n",
    "import torchvision\n",
    "\n",
    "from postprocessing_utils import compare_pred_w_gt_boxes_only\n",
    "from tqdm.notebook import tqdm"
   ]
  },
  {
   "cell_type": "code",
   "execution_count": 3,
   "metadata": {},
   "outputs": [],
   "source": [
    "MOT15_TRAIN_PATH = os.path.join('../A/', 'MOT15/train/')\n",
    "GT_SUBPATH = 'gt/'\n",
    "IMG_SUBPATH = 'img1/'\n",
    "OUTPUT_DIR = 'results/'"
   ]
  },
  {
   "cell_type": "code",
   "execution_count": 4,
   "metadata": {},
   "outputs": [
    {
     "output_type": "stream",
     "name": "stdout",
     "text": [
      "['ADL-Rundle-6', 'ADL-Rundle-8', 'ETH-Bahnhof', 'ETH-Pedcross2', 'ETH-Sunnyday', 'KITTI-13', 'KITTI-17', 'PETS09-S2L1', 'TUD-Campus', 'TUD-Stadtmitte', 'Venice-2']\n"
     ]
    }
   ],
   "source": [
    "# Uses CUDA-ready GPU 0 if CUDA is available, otherwise, stick with the CPU\n",
    "target_device = torch.device(\"cuda\") if torch.cuda.is_available() else torch.device(\"cpu\")\n",
    "\n",
    "# Automatically downloads the model from the Internet, set for 91 unique classes (from COCO dataset)\n",
    "frcnn = torchvision.models.detection.fasterrcnn_resnet50_fpn(pretrained=True, num_classes=91).to(target_device)\n",
    "frcnn = frcnn.eval()\n",
    "\n",
    "mot_dataset = custom_dataset.MOT2015(MOT15_TRAIN_PATH, transform=torchvision.transforms.Compose([custom_dataset.ApplySkimageGammaCorrection(), custom_dataset.ToTensor()]))\n",
    "frcnn_dataloader = torch.utils.data.DataLoader(mot_dataset, batch_size=1, shuffle=False, num_workers=0)"
   ]
  },
  {
   "cell_type": "code",
   "execution_count": 5,
   "metadata": {},
   "outputs": [],
   "source": [
    "def get_consistency(sample_1:dict, gt_matches_1:set, sample_2:dict, gt_matches_2:set):\n",
    "    overlapping_matches = gt_matches_1.intersection(gt_matches_2)\n",
    "    sample_1_gt_bbox_ids = set([int(bbox_id) for bbox_id in sample_1[\"bbox_ids\"]])\n",
    "    sample_2_gt_bbox_ids = set([int(bbox_id) for bbox_id in sample_2[\"bbox_ids\"]])\n",
    "    overlapping_gt_ids = sample_1_gt_bbox_ids.intersection(sample_2_gt_bbox_ids)\n",
    "    unique_matches_in_sample_1 = gt_matches_1 - overlapping_matches\n",
    "    stuff_sample_2_should_have_caught = unique_matches_in_sample_1.intersection(overlapping_gt_ids)\n",
    "    unique_matches_in_sample_2 = gt_matches_2 - overlapping_matches\n",
    "    stuff_sample_1_should_have_caught = unique_matches_in_sample_2.intersection(overlapping_gt_ids)\n",
    "\n",
    "    if len(overlapping_gt_ids) != 0:\n",
    "        consistency = (len(overlapping_gt_ids) - len(stuff_sample_2_should_have_caught) - len(stuff_sample_1_should_have_caught))/len(overlapping_gt_ids)\n",
    "    else:\n",
    "        consistency = 1.0\n",
    "        \n",
    "    return stuff_sample_1_should_have_caught, stuff_sample_2_should_have_caught, consistency\n"
   ]
  },
  {
   "cell_type": "code",
   "execution_count": 6,
   "metadata": {
    "tags": []
   },
   "outputs": [
    {
     "output_type": "display_data",
     "data": {
      "text/plain": "HBox(children=(FloatProgress(value=1.0, bar_style='info', layout=Layout(width='20px'), max=1.0), HTML(value=''…",
      "application/vnd.jupyter.widget-view+json": {
       "version_major": 2,
       "version_minor": 0,
       "model_id": "7ad884872c5142fb87bb2cca0938f781"
      }
     },
     "metadata": {}
    },
    {
     "output_type": "stream",
     "name": "stderr",
     "text": [
      "C:\\Users\\tung3\\Anaconda3\\envs\\context-cv\\lib\\site-packages\\torch\\nn\\functional.py:718: UserWarning: Named tensors and all their associated APIs are an experimental feature and subject to change. Please do not use them for anything important until they are released as stable. (Triggered internally at  ..\\c10/core/TensorImpl.h:1156.)\n",
      "  return torch.max_pool2d(input, kernel_size, stride, padding, dilation, ceil_mode)\n",
      "MISSES {'ADL-Rundle-6': 0}\n",
      "MATCHES {'ADL-Rundle-6': 0}\n",
      "Consistency {'ADL-Rundle-6': 0}\n",
      "Per {'ADL-Rundle-6': 0}\n",
      "\n",
      "\n",
      "MISSES {'ADL-Rundle-6': 0, 'ADL-Rundle-8': 0}\n",
      "MATCHES {'ADL-Rundle-6': 0, 'ADL-Rundle-8': 0}\n",
      "Consistency {'ADL-Rundle-6': 524.0, 'ADL-Rundle-8': 0}\n",
      "Per {'ADL-Rundle-6': 524, 'ADL-Rundle-8': 0}\n",
      "\n",
      "\n",
      "MISSES {'ADL-Rundle-6': 0, 'ADL-Rundle-8': 36, 'ETH-Bahnhof': 0}\n",
      "MATCHES {'ADL-Rundle-6': 0, 'ADL-Rundle-8': 19, 'ETH-Bahnhof': 0}\n",
      "Consistency {'ADL-Rundle-6': 524.0, 'ADL-Rundle-8': 650.4241758241758, 'ETH-Bahnhof': 0}\n",
      "Per {'ADL-Rundle-6': 524, 'ADL-Rundle-8': 653, 'ETH-Bahnhof': 0}\n",
      "\n",
      "\n",
      "MISSES {'ADL-Rundle-6': 0, 'ADL-Rundle-8': 36, 'ETH-Bahnhof': 3, 'ETH-Pedcross2': 0}\n",
      "MATCHES {'ADL-Rundle-6': 0, 'ADL-Rundle-8': 19, 'ETH-Bahnhof': 3, 'ETH-Pedcross2': 0}\n",
      "Consistency {'ADL-Rundle-6': 524.0, 'ADL-Rundle-8': 650.4241758241758, 'ETH-Bahnhof': 998.4749999999999, 'ETH-Pedcross2': 0}\n",
      "Per {'ADL-Rundle-6': 524, 'ADL-Rundle-8': 653, 'ETH-Bahnhof': 999, 'ETH-Pedcross2': 0}\n",
      "\n",
      "\n",
      "MISSES {'ADL-Rundle-6': 0, 'ADL-Rundle-8': 36, 'ETH-Bahnhof': 3, 'ETH-Pedcross2': 160, 'ETH-Sunnyday': 0}\n",
      "MATCHES {'ADL-Rundle-6': 0, 'ADL-Rundle-8': 19, 'ETH-Bahnhof': 3, 'ETH-Pedcross2': 136, 'ETH-Sunnyday': 0}\n",
      "Consistency {'ADL-Rundle-6': 524.0, 'ADL-Rundle-8': 650.4241758241758, 'ETH-Bahnhof': 998.4749999999999, 'ETH-Pedcross2': 814.8589160839157, 'ETH-Sunnyday': 0}\n",
      "Per {'ADL-Rundle-6': 524, 'ADL-Rundle-8': 653, 'ETH-Bahnhof': 999, 'ETH-Pedcross2': 836, 'ETH-Sunnyday': 0}\n",
      "\n",
      "\n",
      "MISSES {'ADL-Rundle-6': 0, 'ADL-Rundle-8': 36, 'ETH-Bahnhof': 3, 'ETH-Pedcross2': 160, 'ETH-Sunnyday': 0, 'KITTI-13': 0}\n",
      "MATCHES {'ADL-Rundle-6': 0, 'ADL-Rundle-8': 19, 'ETH-Bahnhof': 3, 'ETH-Pedcross2': 136, 'ETH-Sunnyday': 0, 'KITTI-13': 0}\n",
      "Consistency {'ADL-Rundle-6': 524.0, 'ADL-Rundle-8': 650.4241758241758, 'ETH-Bahnhof': 998.4749999999999, 'ETH-Pedcross2': 814.8589160839157, 'ETH-Sunnyday': 353.0, 'KITTI-13': 0}\n",
      "Per {'ADL-Rundle-6': 524, 'ADL-Rundle-8': 653, 'ETH-Bahnhof': 999, 'ETH-Pedcross2': 836, 'ETH-Sunnyday': 353, 'KITTI-13': 0}\n",
      "\n",
      "\n",
      "MISSES {'ADL-Rundle-6': 0, 'ADL-Rundle-8': 36, 'ETH-Bahnhof': 3, 'ETH-Pedcross2': 160, 'ETH-Sunnyday': 0, 'KITTI-13': 0, 'KITTI-17': 0}\n",
      "MATCHES {'ADL-Rundle-6': 0, 'ADL-Rundle-8': 19, 'ETH-Bahnhof': 3, 'ETH-Pedcross2': 136, 'ETH-Sunnyday': 0, 'KITTI-13': 0, 'KITTI-17': 0}\n",
      "Consistency {'ADL-Rundle-6': 524.0, 'ADL-Rundle-8': 650.4241758241758, 'ETH-Bahnhof': 998.4749999999999, 'ETH-Pedcross2': 814.8589160839157, 'ETH-Sunnyday': 353.0, 'KITTI-13': 339.0, 'KITTI-17': 0}\n",
      "Per {'ADL-Rundle-6': 524, 'ADL-Rundle-8': 653, 'ETH-Bahnhof': 999, 'ETH-Pedcross2': 836, 'ETH-Sunnyday': 353, 'KITTI-13': 339, 'KITTI-17': 0}\n",
      "\n",
      "\n",
      "MISSES {'ADL-Rundle-6': 0, 'ADL-Rundle-8': 36, 'ETH-Bahnhof': 3, 'ETH-Pedcross2': 160, 'ETH-Sunnyday': 0, 'KITTI-13': 0, 'KITTI-17': 0, 'PETS09-S2L1': 0}\n",
      "MATCHES {'ADL-Rundle-6': 0, 'ADL-Rundle-8': 19, 'ETH-Bahnhof': 3, 'ETH-Pedcross2': 136, 'ETH-Sunnyday': 0, 'KITTI-13': 0, 'KITTI-17': 0, 'PETS09-S2L1': 0}\n",
      "Consistency {'ADL-Rundle-6': 524.0, 'ADL-Rundle-8': 650.4241758241758, 'ETH-Bahnhof': 998.4749999999999, 'ETH-Pedcross2': 814.8589160839157, 'ETH-Sunnyday': 353.0, 'KITTI-13': 339.0, 'KITTI-17': 144.0, 'PETS09-S2L1': 0}\n",
      "Per {'ADL-Rundle-6': 524, 'ADL-Rundle-8': 653, 'ETH-Bahnhof': 999, 'ETH-Pedcross2': 836, 'ETH-Sunnyday': 353, 'KITTI-13': 339, 'KITTI-17': 144, 'PETS09-S2L1': 0}\n",
      "\n",
      "\n",
      "MISSES {'ADL-Rundle-6': 0, 'ADL-Rundle-8': 36, 'ETH-Bahnhof': 3, 'ETH-Pedcross2': 160, 'ETH-Sunnyday': 0, 'KITTI-13': 0, 'KITTI-17': 0, 'PETS09-S2L1': 0, 'TUD-Campus': 0}\n",
      "MATCHES {'ADL-Rundle-6': 0, 'ADL-Rundle-8': 19, 'ETH-Bahnhof': 3, 'ETH-Pedcross2': 136, 'ETH-Sunnyday': 0, 'KITTI-13': 0, 'KITTI-17': 0, 'PETS09-S2L1': 0, 'TUD-Campus': 0}\n",
      "Consistency {'ADL-Rundle-6': 524.0, 'ADL-Rundle-8': 650.4241758241758, 'ETH-Bahnhof': 998.4749999999999, 'ETH-Pedcross2': 814.8589160839157, 'ETH-Sunnyday': 353.0, 'KITTI-13': 339.0, 'KITTI-17': 144.0, 'PETS09-S2L1': 794.0, 'TUD-Campus': 0}\n",
      "Per {'ADL-Rundle-6': 524, 'ADL-Rundle-8': 653, 'ETH-Bahnhof': 999, 'ETH-Pedcross2': 836, 'ETH-Sunnyday': 353, 'KITTI-13': 339, 'KITTI-17': 144, 'PETS09-S2L1': 794, 'TUD-Campus': 0}\n",
      "\n",
      "\n",
      "MISSES {'ADL-Rundle-6': 0, 'ADL-Rundle-8': 36, 'ETH-Bahnhof': 3, 'ETH-Pedcross2': 160, 'ETH-Sunnyday': 0, 'KITTI-13': 0, 'KITTI-17': 0, 'PETS09-S2L1': 0, 'TUD-Campus': 0, 'TUD-Stadtmitte': 0}\n",
      "MATCHES {'ADL-Rundle-6': 0, 'ADL-Rundle-8': 19, 'ETH-Bahnhof': 3, 'ETH-Pedcross2': 136, 'ETH-Sunnyday': 0, 'KITTI-13': 0, 'KITTI-17': 0, 'PETS09-S2L1': 0, 'TUD-Campus': 0, 'TUD-Stadtmitte': 0}\n",
      "Consistency {'ADL-Rundle-6': 524.0, 'ADL-Rundle-8': 650.4241758241758, 'ETH-Bahnhof': 998.4749999999999, 'ETH-Pedcross2': 814.8589160839157, 'ETH-Sunnyday': 353.0, 'KITTI-13': 339.0, 'KITTI-17': 144.0, 'PETS09-S2L1': 794.0, 'TUD-Campus': 70.0, 'TUD-Stadtmitte': 0}\n",
      "Per {'ADL-Rundle-6': 524, 'ADL-Rundle-8': 653, 'ETH-Bahnhof': 999, 'ETH-Pedcross2': 836, 'ETH-Sunnyday': 353, 'KITTI-13': 339, 'KITTI-17': 144, 'PETS09-S2L1': 794, 'TUD-Campus': 70, 'TUD-Stadtmitte': 0}\n",
      "\n",
      "\n",
      "MISSES {'ADL-Rundle-6': 0, 'ADL-Rundle-8': 36, 'ETH-Bahnhof': 3, 'ETH-Pedcross2': 160, 'ETH-Sunnyday': 0, 'KITTI-13': 0, 'KITTI-17': 0, 'PETS09-S2L1': 0, 'TUD-Campus': 0, 'TUD-Stadtmitte': 0, 'Venice-2': 0}\n",
      "MATCHES {'ADL-Rundle-6': 0, 'ADL-Rundle-8': 19, 'ETH-Bahnhof': 3, 'ETH-Pedcross2': 136, 'ETH-Sunnyday': 0, 'KITTI-13': 0, 'KITTI-17': 0, 'PETS09-S2L1': 0, 'TUD-Campus': 0, 'TUD-Stadtmitte': 0, 'Venice-2': 0}\n",
      "Consistency {'ADL-Rundle-6': 524.0, 'ADL-Rundle-8': 650.4241758241758, 'ETH-Bahnhof': 998.4749999999999, 'ETH-Pedcross2': 814.8589160839157, 'ETH-Sunnyday': 353.0, 'KITTI-13': 339.0, 'KITTI-17': 144.0, 'PETS09-S2L1': 794.0, 'TUD-Campus': 70.0, 'TUD-Stadtmitte': 178.0, 'Venice-2': 0}\n",
      "Per {'ADL-Rundle-6': 524, 'ADL-Rundle-8': 653, 'ETH-Bahnhof': 999, 'ETH-Pedcross2': 836, 'ETH-Sunnyday': 353, 'KITTI-13': 339, 'KITTI-17': 144, 'PETS09-S2L1': 794, 'TUD-Campus': 70, 'TUD-Stadtmitte': 178, 'Venice-2': 0}\n",
      "\n",
      "\n",
      "\n"
     ]
    }
   ],
   "source": [
    "\n",
    "current_folder_name = \"\"\n",
    "total_misses = {}\n",
    "total_matches = {}\n",
    "total_consistency = {}\n",
    "prev_matches = None\n",
    "prev_sample = None\n",
    "total_imgs_per_folder = {}\n",
    "for i, sample in tqdm(enumerate(frcnn_dataloader)):\n",
    "    predictions = frcnn(sample[\"img\"].to(target_device))[0] # Retrieve the single element in the prediction list\n",
    "    pred_boxes = predictions[\"boxes\"].to(\"cpu\")\n",
    "    pred_scores = predictions[\"scores\"].to(\"cpu\")\n",
    "    gt_boxes = sample[\"bboxes\"]\n",
    "    gt_ids = sample[\"bbox_ids\"]\n",
    "\n",
    "    gt_boxes_tensor = torch.Tensor(gt_boxes)\n",
    "    gt_ids_tensor = torch.Tensor(gt_ids)\n",
    "\n",
    "    if len(gt_boxes) == 3:\n",
    "        gt_boxes_tensor = gt_boxes_tensor.squeeze(0)\n",
    "        gt_ids_tensor = gt_ids_tensor.squeeze(0)\n",
    "\n",
    "    matches = compare_pred_w_gt_boxes_only(pred_boxes, pred_scores, gt_boxes_tensor, gt_ids_tensor)\n",
    "    if current_folder_name == sample[\"folder_name\"][0]:\n",
    "        \n",
    "        stuff_sample_1_should_have_caught, stuff_sample_2_should_have_caught, consistency = get_consistency(sample, matches, prev_sample, prev_matches)\n",
    "\n",
    "        missed_matches = stuff_sample_1_should_have_caught.union(stuff_sample_2_should_have_caught)\n",
    "        total_misses[current_folder_name] += len(missed_matches)\n",
    "        total_matches[current_folder_name] += len(matches) \n",
    "        total_consistency[current_folder_name] += consistency\n",
    "        total_imgs_per_folder[current_folder_name] += 1\n",
    "\n",
    "        if len(missed_matches) > 0:\n",
    "            cv2_img = sample[\"img\"].squeeze().numpy().transpose((1, 2, 0)) * 255\n",
    "            cv2_img = cv2.cvtColor(cv2_img.astype(np.uint8), cv2.COLOR_RGB2BGR)\n",
    "\n",
    "            color = (0, 0, 255)\n",
    "            thickness = 10\n",
    "        \n",
    "            for miss in missed_matches: # All the images missed\n",
    "                for bbox_index, bbox_id in enumerate(sample[\"bbox_ids\"]):\n",
    "                    if bbox_id == miss:\n",
    "                        cv2_img = cv2.rectangle(cv2_img, tuple(sample[\"bboxes\"][bbox_index][0:2]), tuple(sample[\"bboxes\"][bbox_index][2:4]), color, thickness)\n",
    "                        \n",
    "                        try:\n",
    "                            os.mkdir(os.path.join(OUTPUT_DIR, current_folder_name))\n",
    "                        except:\n",
    "                            pass\n",
    "                        cv2.imwrite(os.path.join(OUTPUT_DIR, current_folder_name, sample[\"img_name\"][0]), cv2_img)\n",
    "                        break\n",
    "    else:\n",
    "        current_folder_name = sample[\"folder_name\"][0]\n",
    "        total_misses[current_folder_name] = 0\n",
    "        total_matches[current_folder_name] = 0\n",
    "        total_consistency[current_folder_name] = 0\n",
    "        total_imgs_per_folder[current_folder_name] = 0\n",
    "        prev_matches = None\n",
    "        prev_sample = None\n",
    "        print(\"MISSES\", total_misses)\n",
    "        print(\"MATCHES\", total_matches)\n",
    "        print(\"Consistency\", total_consistency)\n",
    "        print(\"Per\", total_imgs_per_folder)\n",
    "        print(\"\\n\")\n",
    "    prev_matches = matches\n",
    "    prev_sample = sample\n",
    "\n",
    "\n"
   ]
  },
  {
   "cell_type": "code",
   "execution_count": 7,
   "metadata": {},
   "outputs": [],
   "source": [
    "for folder_name in total_consistency:\n",
    "    folder = os.path.join(MOT15_TRAIN_PATH, folder_name, IMG_SUBPATH)\n",
    "    total_consistency[folder_name] /= len(os.listdir(folder))"
   ]
  },
  {
   "cell_type": "code",
   "execution_count": 9,
   "metadata": {},
   "outputs": [
    {
     "output_type": "stream",
     "name": "stdout",
     "text": [
      "ADL-Rundle-6: 0.19 - ACCURACY: 0\nADL-Rundle-8: 0.55 - ACCURACY: 19\nETH-Bahnhof: 0.15 - ACCURACY: 3\nETH-Pedcross2: 2.65 - ACCURACY: 136\nETH-Sunnyday: 0.28 - ACCURACY: 0\nKITTI-13: 0.29 - ACCURACY: 0\nKITTI-17: 0.69 - ACCURACY: 0\nPETS09-S2L1: 0.13 - ACCURACY: 0\nTUD-Campus: 1.41 - ACCURACY: 0\nTUD-Stadtmitte: 0.56 - ACCURACY: 0\nVenice-2: 0.17 - ACCURACY: 0\n"
     ]
    }
   ],
   "source": [
    "for key in total_consistency:\n",
    "    print(\"{0}: {1:.2f} - ACCURACY: {2}\".format(key, 100*(1-total_consistency[key]), total_matches[key]))"
   ]
  },
  {
   "cell_type": "code",
   "execution_count": null,
   "metadata": {},
   "outputs": [],
   "source": []
  }
 ]
}